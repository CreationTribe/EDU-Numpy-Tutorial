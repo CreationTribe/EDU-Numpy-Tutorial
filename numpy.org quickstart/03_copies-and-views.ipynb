{
 "cells": [
  {
   "cell_type": "markdown",
   "metadata": {
    "collapsed": true,
    "pycharm": {
     "name": "#%% md\n"
    }
   },
   "source": [
    "## Copies and Views"
   ]
  },
  {
   "cell_type": "code",
   "execution_count": null,
   "outputs": [],
   "source": [
    "a = np.array([[0,1,2,3],\n",
    "             [4,5,6,7],\n",
    "             [8,9,10,11]])\n",
    "\n",
    "b = a\n",
    "b is a\n",
    "\n",
    "# No new copies were made.\n",
    "# a and b both reference the same object"
   ],
   "metadata": {
    "collapsed": false,
    "pycharm": {
     "name": "#%%\n"
    }
   }
  },
  {
   "cell_type": "markdown",
   "source": [
    "* mutable objects are passed as references; so function calls do not make copies."
   ],
   "metadata": {
    "collapsed": false
   }
  },
  {
   "cell_type": "code",
   "execution_count": null,
   "outputs": [],
   "source": [
    "def f(x):\n",
    "    print(id(x))\n",
    "\n",
    "id(a) # id is unique identifier of object"
   ],
   "metadata": {
    "collapsed": false,
    "pycharm": {
     "name": "#%%\n"
    }
   }
  },
  {
   "cell_type": "code",
   "execution_count": null,
   "outputs": [],
   "source": [
    "f(a)"
   ],
   "metadata": {
    "collapsed": false,
    "pycharm": {
     "name": "#%%\n"
    }
   }
  },
  {
   "cell_type": "markdown",
   "source": [
    "### View or Shallow Copy\n",
    "\n",
    "* Different array objects care share the same data.\n",
    "* the view() method creates a new array object that looks at the same data.\n",
    "* slices return views"
   ],
   "metadata": {
    "collapsed": false
   }
  },
  {
   "cell_type": "code",
   "execution_count": null,
   "outputs": [],
   "source": [
    "c = a.view()\n",
    "c is a"
   ],
   "metadata": {
    "collapsed": false,
    "pycharm": {
     "name": "#%%\n"
    }
   }
  },
  {
   "cell_type": "code",
   "execution_count": null,
   "outputs": [],
   "source": [
    "c.base is a"
   ],
   "metadata": {
    "collapsed": false,
    "pycharm": {
     "name": "#%%\n"
    }
   }
  },
  {
   "cell_type": "code",
   "execution_count": null,
   "outputs": [],
   "source": [
    "c.flags.owndata"
   ],
   "metadata": {
    "collapsed": false,
    "pycharm": {
     "name": "#%%\n"
    }
   }
  },
  {
   "cell_type": "code",
   "execution_count": null,
   "outputs": [],
   "source": [
    "c = c.reshape((2,6))\n",
    "a.shape"
   ],
   "metadata": {
    "collapsed": false,
    "pycharm": {
     "name": "#%%\n"
    }
   }
  },
  {
   "cell_type": "code",
   "execution_count": null,
   "outputs": [],
   "source": [
    "c[0,4] = 1234\n",
    "a"
   ],
   "metadata": {
    "collapsed": false,
    "pycharm": {
     "name": "#%%\n"
    }
   }
  },
  {
   "cell_type": "code",
   "execution_count": null,
   "outputs": [],
   "source": [
    "s = a[:,1:3] # s is a slice-view from a\n",
    "s[:] = 10 # notice, s[:] is a slice-view of s\n",
    "a # thus, a is altered, being the base of all of this"
   ],
   "metadata": {
    "collapsed": false,
    "pycharm": {
     "name": "#%%\n"
    }
   }
  },
  {
   "cell_type": "markdown",
   "source": [
    "### Deep Copy\n",
    "\n",
    "* copy() makes a complete copy of array and data\n",
    "* use copy after slicing to separate the two arrays if necessary"
   ],
   "metadata": {
    "collapsed": false
   }
  },
  {
   "cell_type": "code",
   "execution_count": null,
   "outputs": [],
   "source": [
    "d = a.copy()\n",
    "d is a"
   ],
   "metadata": {
    "collapsed": false,
    "pycharm": {
     "name": "#%%\n"
    }
   }
  },
  {
   "cell_type": "code",
   "execution_count": null,
   "outputs": [],
   "source": [
    "d.base is a"
   ],
   "metadata": {
    "collapsed": false,
    "pycharm": {
     "name": "#%%\n"
    }
   }
  },
  {
   "cell_type": "code",
   "execution_count": null,
   "outputs": [],
   "source": [
    "d[0,0] = 9999\n",
    "a # does not alter d; copy() made a complete copy"
   ],
   "metadata": {
    "collapsed": false,
    "pycharm": {
     "name": "#%%\n"
    }
   }
  },
  {
   "cell_type": "code",
   "execution_count": null,
   "outputs": [],
   "source": [
    "a = np.arange(int(1e8))\n",
    "b = a[:100].copy() # copy the slice so there is not cross-association\n",
    "# If b = a[:100] is used instead, a is referenced by b and will persist in memory even if del a is executed.\n",
    "del a\n",
    "b"
   ],
   "metadata": {
    "collapsed": false,
    "pycharm": {
     "name": "#%%\n"
    }
   }
  },
  {
   "cell_type": "markdown",
   "source": [
    "### Functions and Methods Overview\n",
    "\n",
    "* This is not a comprehensive list. See \"Routines\" link for more: [NumPy Routines](https://numpy.org/devdocs/reference/routines.html#routines)\n",
    "\n",
    "#### Array Creation\n",
    "* ```arange, array, copy, empty, empty_like, eye, fromfile, fromfunction, identity, linspace, logspace, mgrid, ogrid, ones, ones_like, r_, zeros, zeros_like```\n",
    "\n",
    "#### Conversions\n",
    "* ```ndarray.astype, atleast_1d, atleast_2d, atleast_3d, mat```\n",
    "\n",
    "#### Manipulations\n",
    "* ```array_split, column_stack, concatenate, diagonal, dsplit, dstack, hsplit, hstack, ndarray.item, newaxis, ravel, repeat, reshape, resize, squeeze, swapaxes, take, transpose, vsplit, vstack```\n",
    "\n",
    "#### Questions\n",
    "* ```all, any, nonzero, where```\n",
    "\n",
    "#### Ordering\n",
    "* ```argmax, argmin, argsort, max, min, ptp, searchsorted, sort```\n",
    "\n",
    "#### Operations\n",
    "* ```choose, compress, cumprod, cumsum, inner, ndarray.fill, imag, prod, put, putmask, real, sum```\n",
    "\n",
    "#### Basic Statistics\n",
    "* ```cov, mean, std, var```\n",
    "\n",
    "#### Basic Linear Algebra\n",
    "* ```cross, dot, outer, linalg.svd, vdot```"
   ],
   "metadata": {
    "collapsed": false
   }
  },
  {
   "cell_type": "code",
   "execution_count": null,
   "outputs": [],
   "source": [],
   "metadata": {
    "collapsed": false,
    "pycharm": {
     "name": "#%%\n"
    }
   }
  }
 ],
 "metadata": {
  "kernelspec": {
   "display_name": "Python 3",
   "language": "python",
   "name": "python3"
  },
  "language_info": {
   "codemirror_mode": {
    "name": "ipython",
    "version": 2
   },
   "file_extension": ".py",
   "mimetype": "text/x-python",
   "name": "python",
   "nbconvert_exporter": "python",
   "pygments_lexer": "ipython2",
   "version": "2.7.6"
  }
 },
 "nbformat": 4,
 "nbformat_minor": 0
}