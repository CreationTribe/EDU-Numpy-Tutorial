{
 "cells": [
  {
   "cell_type": "markdown",
   "metadata": {
    "collapsed": true,
    "pycharm": {
     "name": "#%% md\n"
    }
   },
   "source": [
    "## Less Basic"
   ]
  },
  {
   "cell_type": "markdown",
   "source": [
    "### Broadcasting rules\n",
    "\n",
    "1. If all input arrays do not have same number of dimensions, 1's will be used to fill out the smaller arrays until they have the same size.\n",
    "2. Ensures arrays with a size of 1 along a particular dimension act as if they were the same size as that of the largest shape across that dimension. The value of the array element is assumed to be the same along said dimension for the \"broadcast\" array.\n",
    "3. After applying broadcast rules, all arrays must be the same size.\n",
    "\n",
    "* Read more here: [NumPy: Broadcasting](https://numpy.org/devdocs/user/basics.broadcasting.html#basics-broadcasting)"
   ],
   "metadata": {
    "collapsed": false
   }
  },
  {
   "cell_type": "code",
   "execution_count": null,
   "outputs": [],
   "source": [],
   "metadata": {
    "collapsed": false,
    "pycharm": {
     "name": "#%%\n"
    }
   }
  }
 ],
 "metadata": {
  "kernelspec": {
   "display_name": "Python 3",
   "language": "python",
   "name": "python3"
  },
  "language_info": {
   "codemirror_mode": {
    "name": "ipython",
    "version": 2
   },
   "file_extension": ".py",
   "mimetype": "text/x-python",
   "name": "python",
   "nbconvert_exporter": "python",
   "pygments_lexer": "ipython2",
   "version": "2.7.6"
  }
 },
 "nbformat": 4,
 "nbformat_minor": 0
}