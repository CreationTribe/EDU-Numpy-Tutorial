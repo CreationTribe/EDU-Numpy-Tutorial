{
 "cells": [
  {
   "cell_type": "markdown",
   "metadata": {
    "collapsed": true,
    "pycharm": {
     "name": "#%% md\n"
    }
   },
   "source": [
    "# NumPy Quickstart\n",
    "[numpy.org - quickstart](https://numpy.org/devdocs/user/quickstart.html)\n",
    "\n",
    " * ndarray.ndim: number of dimensions\n",
    " * ndarray.shape: tuple of each dimensions's size. ie: a 2x3x5 array would be (2,3,5)\n",
    " * ndarray.size: number of total elements. ie: product of each element in shape tuple\n",
    " * ndarray.dtype: data type of the elements\n",
    " * ndarray.itemsize: byte size. ie: float64, complex32, etc.\n",
    " * ndarray.data: the buffer containing the array's elements"
   ]
  }
 ],
 "metadata": {
  "kernelspec": {
   "display_name": "Python 3",
   "language": "python",
   "name": "python3"
  },
  "language_info": {
   "codemirror_mode": {
    "name": "ipython",
    "version": 2
   },
   "file_extension": ".py",
   "mimetype": "text/x-python",
   "name": "python",
   "nbconvert_exporter": "python",
   "pygments_lexer": "ipython2",
   "version": "2.7.6"
  }
 },
 "nbformat": 4,
 "nbformat_minor": 0
}